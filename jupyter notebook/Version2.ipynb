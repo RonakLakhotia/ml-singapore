{
 "cells": [
  {
   "cell_type": "code",
   "execution_count": 75,
   "metadata": {
    "scrolled": false
   },
   "outputs": [],
   "source": [
    "import numpy as np # linear algebra\n",
    "import pandas as pd # CSV file I/O (e.g. pd.read_csv)\n",
    "from datetime import datetime\n",
    "import calendar\n",
    "import matplotlib.pyplot as plt\n",
    "from matplotlib import collections  as mc\n",
    "import warnings\n",
    "from math import pi, sin, cos, sqrt, atan2, radians,asin\n",
    "import calendar\n",
    "from numpy.polynomial.polynomial import polyfit\n",
    "import os # reading the input files we have access to\n",
    "from sklearn.model_selection import cross_val_predict\n",
    "from sklearn.model_selection import train_test_split\n",
    "from sklearn.metrics import mean_squared_error\n",
    "from sklearn.linear_model import LinearRegression\n",
    "from sklearn.model_selection import GridSearchCV\n",
    "from sklearn.ensemble import RandomForestRegressor"
   ]
  },
  {
   "cell_type": "code",
   "execution_count": 76,
   "metadata": {
    "scrolled": true
   },
   "outputs": [
    {
     "name": "stdout",
     "output_type": "stream",
     "text": [
      "Shape of Training Data (1000000, 8)\n",
      "Shape of Testing Data (9914, 7)\n"
     ]
    }
   ],
   "source": [
    "train=pd.read_csv(\"input/train.csv\",nrows=1000000) #Has to be 10^6 for good performance [TODO]\n",
    "print(\"Shape of Training Data\",train.shape)\n",
    "test=pd.read_csv(\"input/test.csv\")\n",
    "print(\"Shape of Testing Data\", test.shape)"
   ]
  },
  {
   "cell_type": "code",
   "execution_count": 77,
   "metadata": {},
   "outputs": [],
   "source": [
    "def distance(lat1,lon1,lat2,lon2):\n",
    "    p = 0.017453292519943295 # Pi/180\n",
    "    a = 0.5 - np.cos((lat2 - lat1) * p)/2 + np.cos(lat1 * p) * np.cos(lat2 * p) * (1 - np.cos((lon2 - lon1) * p)) / 2\n",
    "    return 0.6213712 * 12742 * np.arcsin(np.sqrt(a))\n",
    "def clean_data(data):\n",
    "    boundary={'min_lng':-74.263242,\n",
    "              'min_lat':40.573143,\n",
    "              'max_lng':-72.986532, \n",
    "              'max_lat':41.709555}\n",
    "    \n",
    "    data['pickup_datetime']=pd.to_datetime(data['pickup_datetime'],format='%Y-%m-%d %H:%M:%S UTC')\n",
    "    data['pickup_day']=data['pickup_datetime'].apply(lambda x:x.day)\n",
    "    #data['pickup_sin_hm'] = data['pickup_datetime'].apply(lambda x:sin(2*pi*(x.hour * 60 + x.minute)/1440))\n",
    "    #data['pickup_cos_hm'] = data['pickup_datetime'].apply(lambda x:cos(2*pi*(x.hour * 60 + x.minute)/1440))\n",
    "    data['pickup_hour']=data['pickup_datetime'].apply(lambda x:x.hour)\n",
    "    data['pickup_month']=data['pickup_datetime'].apply(lambda x:x.month)\n",
    "    data['pickup_year']=data['pickup_datetime'].apply(lambda x:x.year)\n",
    "    data['distance'] = data.apply(lambda x: distance(x['pickup_latitude'], x['pickup_longitude'], x['dropoff_latitude'], x['dropoff_longitude']), axis=1)\n",
    "    if 'fare_amount' in data.columns:\n",
    "        data = data[data['fare_amount']>0]\n",
    "        data = data[data['fare_amount']<=50]\n",
    "        \n",
    "    data.loc[~((data.pickup_longitude >= boundary['min_lng'] ) & (data.pickup_longitude <= boundary['max_lng']) &\n",
    "        (data.pickup_latitude >= boundary['min_lat']) & (data.pickup_latitude <= boundary['max_lat']) &\n",
    "        (data.dropoff_longitude >= boundary['min_lng']) & (data.dropoff_longitude <= boundary['max_lng']) &\n",
    "        (data.dropoff_latitude >=boundary['min_lat']) & (data.dropoff_latitude <= boundary['max_lat'])),'is_outlier_loc']=1\n",
    "    data.loc[((data.pickup_longitude >= boundary['min_lng'] ) & (data.pickup_longitude <= boundary['max_lng']) &\n",
    "        (data.pickup_latitude >= boundary['min_lat']) & (data.pickup_latitude <= boundary['max_lat']) &\n",
    "        (data.dropoff_longitude >= boundary['min_lng']) & (data.dropoff_longitude <= boundary['max_lng']) &\n",
    "        (data.dropoff_latitude >=boundary['min_lat']) & (data.dropoff_latitude <= boundary['max_lat'])),'is_outlier_loc']=0\n",
    "\n",
    "    # Let us drop rows, where location is outlier\n",
    "    data=data.loc[data['is_outlier_loc']==0]\n",
    "    data.drop(['is_outlier_loc'],axis=1,inplace=True)\n",
    "    \n",
    "    data=data[data['passenger_count']<=8]\n",
    "    data['passenger_count'] = data['passenger_count'].apply(lambda x:1 if x > 4 else 0)\n",
    "    \n",
    "    weekday_names = {0: 'Monday',\n",
    "                 1: 'Tuesday',\n",
    "                 2: 'Wednesday',\n",
    "                 3: 'Thursday',\n",
    "                 4: 'Friday',\n",
    "                 5: 'Saturday',\n",
    "                 6: 'Sunday'}\n",
    "    data = data.join(pd.get_dummies(\"is\"+data['pickup_datetime'].dt.weekday.apply(lambda x: weekday_names.get(x))))\n",
    "    #^one-hot encoding of weekday\n",
    "    return data"
   ]
  },
  {
   "cell_type": "code",
   "execution_count": 78,
   "metadata": {
    "scrolled": false
   },
   "outputs": [],
   "source": [
    "train=clean_data(train)\n",
    "test=clean_data(test)"
   ]
  },
  {
   "cell_type": "code",
   "execution_count": 79,
   "metadata": {
    "scrolled": true
   },
   "outputs": [
    {
     "data": {
      "text/html": [
       "<div>\n",
       "<style scoped>\n",
       "    .dataframe tbody tr th:only-of-type {\n",
       "        vertical-align: middle;\n",
       "    }\n",
       "\n",
       "    .dataframe tbody tr th {\n",
       "        vertical-align: top;\n",
       "    }\n",
       "\n",
       "    .dataframe thead th {\n",
       "        text-align: right;\n",
       "    }\n",
       "</style>\n",
       "<table border=\"1\" class=\"dataframe\">\n",
       "  <thead>\n",
       "    <tr style=\"text-align: right;\">\n",
       "      <th></th>\n",
       "      <th>fare_amount</th>\n",
       "      <th>pickup_longitude</th>\n",
       "      <th>pickup_latitude</th>\n",
       "      <th>dropoff_longitude</th>\n",
       "      <th>dropoff_latitude</th>\n",
       "      <th>passenger_count</th>\n",
       "      <th>pickup_day</th>\n",
       "      <th>pickup_hour</th>\n",
       "      <th>pickup_month</th>\n",
       "      <th>pickup_year</th>\n",
       "      <th>distance</th>\n",
       "      <th>isFriday</th>\n",
       "      <th>isMonday</th>\n",
       "      <th>isSaturday</th>\n",
       "      <th>isSunday</th>\n",
       "      <th>isThursday</th>\n",
       "      <th>isTuesday</th>\n",
       "      <th>isWednesday</th>\n",
       "    </tr>\n",
       "  </thead>\n",
       "  <tbody>\n",
       "    <tr>\n",
       "      <th>count</th>\n",
       "      <td>966615.000000</td>\n",
       "      <td>966615.000000</td>\n",
       "      <td>966615.000000</td>\n",
       "      <td>966615.000000</td>\n",
       "      <td>966615.000000</td>\n",
       "      <td>966615.000000</td>\n",
       "      <td>966615.000000</td>\n",
       "      <td>966615.000000</td>\n",
       "      <td>966615.000000</td>\n",
       "      <td>966615.000000</td>\n",
       "      <td>966615.000000</td>\n",
       "      <td>966615.000000</td>\n",
       "      <td>966615.000000</td>\n",
       "      <td>966615.000000</td>\n",
       "      <td>966615.000000</td>\n",
       "      <td>966615.000000</td>\n",
       "      <td>966615.000000</td>\n",
       "      <td>966615.000000</td>\n",
       "    </tr>\n",
       "    <tr>\n",
       "      <th>mean</th>\n",
       "      <td>10.699657</td>\n",
       "      <td>-73.976138</td>\n",
       "      <td>40.751679</td>\n",
       "      <td>-73.974630</td>\n",
       "      <td>40.751902</td>\n",
       "      <td>0.091774</td>\n",
       "      <td>15.692906</td>\n",
       "      <td>13.514632</td>\n",
       "      <td>6.265289</td>\n",
       "      <td>2011.721878</td>\n",
       "      <td>1.955092</td>\n",
       "      <td>0.154312</td>\n",
       "      <td>0.128401</td>\n",
       "      <td>0.151665</td>\n",
       "      <td>0.130983</td>\n",
       "      <td>0.149707</td>\n",
       "      <td>0.140092</td>\n",
       "      <td>0.144841</td>\n",
       "    </tr>\n",
       "    <tr>\n",
       "      <th>std</th>\n",
       "      <td>7.721215</td>\n",
       "      <td>0.035513</td>\n",
       "      <td>0.028453</td>\n",
       "      <td>0.034297</td>\n",
       "      <td>0.031632</td>\n",
       "      <td>0.288707</td>\n",
       "      <td>8.683856</td>\n",
       "      <td>6.516406</td>\n",
       "      <td>3.437368</td>\n",
       "      <td>1.861344</td>\n",
       "      <td>2.062300</td>\n",
       "      <td>0.361247</td>\n",
       "      <td>0.334536</td>\n",
       "      <td>0.358696</td>\n",
       "      <td>0.337382</td>\n",
       "      <td>0.356784</td>\n",
       "      <td>0.347083</td>\n",
       "      <td>0.351940</td>\n",
       "    </tr>\n",
       "    <tr>\n",
       "      <th>min</th>\n",
       "      <td>0.010000</td>\n",
       "      <td>-74.262970</td>\n",
       "      <td>40.575871</td>\n",
       "      <td>-74.254837</td>\n",
       "      <td>40.573200</td>\n",
       "      <td>0.000000</td>\n",
       "      <td>1.000000</td>\n",
       "      <td>0.000000</td>\n",
       "      <td>1.000000</td>\n",
       "      <td>2009.000000</td>\n",
       "      <td>0.000000</td>\n",
       "      <td>0.000000</td>\n",
       "      <td>0.000000</td>\n",
       "      <td>0.000000</td>\n",
       "      <td>0.000000</td>\n",
       "      <td>0.000000</td>\n",
       "      <td>0.000000</td>\n",
       "      <td>0.000000</td>\n",
       "    </tr>\n",
       "    <tr>\n",
       "      <th>25%</th>\n",
       "      <td>6.000000</td>\n",
       "      <td>-73.992318</td>\n",
       "      <td>40.736930</td>\n",
       "      <td>-73.991548</td>\n",
       "      <td>40.736095</td>\n",
       "      <td>0.000000</td>\n",
       "      <td>8.000000</td>\n",
       "      <td>9.000000</td>\n",
       "      <td>3.000000</td>\n",
       "      <td>2010.000000</td>\n",
       "      <td>0.775138</td>\n",
       "      <td>0.000000</td>\n",
       "      <td>0.000000</td>\n",
       "      <td>0.000000</td>\n",
       "      <td>0.000000</td>\n",
       "      <td>0.000000</td>\n",
       "      <td>0.000000</td>\n",
       "      <td>0.000000</td>\n",
       "    </tr>\n",
       "    <tr>\n",
       "      <th>50%</th>\n",
       "      <td>8.500000</td>\n",
       "      <td>-73.982144</td>\n",
       "      <td>40.753605</td>\n",
       "      <td>-73.980624</td>\n",
       "      <td>40.754055</td>\n",
       "      <td>0.000000</td>\n",
       "      <td>16.000000</td>\n",
       "      <td>14.000000</td>\n",
       "      <td>6.000000</td>\n",
       "      <td>2012.000000</td>\n",
       "      <td>1.323132</td>\n",
       "      <td>0.000000</td>\n",
       "      <td>0.000000</td>\n",
       "      <td>0.000000</td>\n",
       "      <td>0.000000</td>\n",
       "      <td>0.000000</td>\n",
       "      <td>0.000000</td>\n",
       "      <td>0.000000</td>\n",
       "    </tr>\n",
       "    <tr>\n",
       "      <th>75%</th>\n",
       "      <td>12.500000</td>\n",
       "      <td>-73.968635</td>\n",
       "      <td>40.767706</td>\n",
       "      <td>-73.965600</td>\n",
       "      <td>40.768488</td>\n",
       "      <td>0.000000</td>\n",
       "      <td>23.000000</td>\n",
       "      <td>19.000000</td>\n",
       "      <td>9.000000</td>\n",
       "      <td>2013.000000</td>\n",
       "      <td>2.375195</td>\n",
       "      <td>0.000000</td>\n",
       "      <td>0.000000</td>\n",
       "      <td>0.000000</td>\n",
       "      <td>0.000000</td>\n",
       "      <td>0.000000</td>\n",
       "      <td>0.000000</td>\n",
       "      <td>0.000000</td>\n",
       "    </tr>\n",
       "    <tr>\n",
       "      <th>max</th>\n",
       "      <td>50.000000</td>\n",
       "      <td>-73.089387</td>\n",
       "      <td>41.696852</td>\n",
       "      <td>-73.110500</td>\n",
       "      <td>41.646975</td>\n",
       "      <td>1.000000</td>\n",
       "      <td>31.000000</td>\n",
       "      <td>23.000000</td>\n",
       "      <td>12.000000</td>\n",
       "      <td>2015.000000</td>\n",
       "      <td>68.868482</td>\n",
       "      <td>1.000000</td>\n",
       "      <td>1.000000</td>\n",
       "      <td>1.000000</td>\n",
       "      <td>1.000000</td>\n",
       "      <td>1.000000</td>\n",
       "      <td>1.000000</td>\n",
       "      <td>1.000000</td>\n",
       "    </tr>\n",
       "  </tbody>\n",
       "</table>\n",
       "</div>"
      ],
      "text/plain": [
       "         fare_amount  pickup_longitude  pickup_latitude  dropoff_longitude  \\\n",
       "count  966615.000000     966615.000000    966615.000000      966615.000000   \n",
       "mean       10.699657        -73.976138        40.751679         -73.974630   \n",
       "std         7.721215          0.035513         0.028453           0.034297   \n",
       "min         0.010000        -74.262970        40.575871         -74.254837   \n",
       "25%         6.000000        -73.992318        40.736930         -73.991548   \n",
       "50%         8.500000        -73.982144        40.753605         -73.980624   \n",
       "75%        12.500000        -73.968635        40.767706         -73.965600   \n",
       "max        50.000000        -73.089387        41.696852         -73.110500   \n",
       "\n",
       "       dropoff_latitude  passenger_count     pickup_day    pickup_hour  \\\n",
       "count     966615.000000    966615.000000  966615.000000  966615.000000   \n",
       "mean          40.751902         0.091774      15.692906      13.514632   \n",
       "std            0.031632         0.288707       8.683856       6.516406   \n",
       "min           40.573200         0.000000       1.000000       0.000000   \n",
       "25%           40.736095         0.000000       8.000000       9.000000   \n",
       "50%           40.754055         0.000000      16.000000      14.000000   \n",
       "75%           40.768488         0.000000      23.000000      19.000000   \n",
       "max           41.646975         1.000000      31.000000      23.000000   \n",
       "\n",
       "        pickup_month    pickup_year       distance       isFriday  \\\n",
       "count  966615.000000  966615.000000  966615.000000  966615.000000   \n",
       "mean        6.265289    2011.721878       1.955092       0.154312   \n",
       "std         3.437368       1.861344       2.062300       0.361247   \n",
       "min         1.000000    2009.000000       0.000000       0.000000   \n",
       "25%         3.000000    2010.000000       0.775138       0.000000   \n",
       "50%         6.000000    2012.000000       1.323132       0.000000   \n",
       "75%         9.000000    2013.000000       2.375195       0.000000   \n",
       "max        12.000000    2015.000000      68.868482       1.000000   \n",
       "\n",
       "            isMonday     isSaturday       isSunday     isThursday  \\\n",
       "count  966615.000000  966615.000000  966615.000000  966615.000000   \n",
       "mean        0.128401       0.151665       0.130983       0.149707   \n",
       "std         0.334536       0.358696       0.337382       0.356784   \n",
       "min         0.000000       0.000000       0.000000       0.000000   \n",
       "25%         0.000000       0.000000       0.000000       0.000000   \n",
       "50%         0.000000       0.000000       0.000000       0.000000   \n",
       "75%         0.000000       0.000000       0.000000       0.000000   \n",
       "max         1.000000       1.000000       1.000000       1.000000   \n",
       "\n",
       "           isTuesday    isWednesday  \n",
       "count  966615.000000  966615.000000  \n",
       "mean        0.140092       0.144841  \n",
       "std         0.347083       0.351940  \n",
       "min         0.000000       0.000000  \n",
       "25%         0.000000       0.000000  \n",
       "50%         0.000000       0.000000  \n",
       "75%         0.000000       0.000000  \n",
       "max         1.000000       1.000000  "
      ]
     },
     "execution_count": 79,
     "metadata": {},
     "output_type": "execute_result"
    }
   ],
   "source": [
    "train.describe()\n",
    "#test.describe()"
   ]
  },
  {
   "cell_type": "code",
   "execution_count": 80,
   "metadata": {},
   "outputs": [],
   "source": [
    "def processDataForModelling(data,target,drop_cols,is_train=True,split=0.25):\n",
    "    data_1=data.drop(drop_cols,axis=1)\n",
    "    if is_train==True:\n",
    "        X=data_1.drop([target],axis=1)\n",
    "        y=data_1[target]\n",
    "        X_train, X_test, y_train, y_test = train_test_split(X,y, test_size=split,random_state=123)\n",
    "        \n",
    "        print(\"Shape of Training Features\",X_train.shape)\n",
    "        print(\"Shape of Validation Features \",X_test.shape)\n",
    "        \n",
    "        return X_train, X_test, y_train, y_test\n",
    "    else:\n",
    "        print (\"Shape of Test Data\",data_1.shape)\n",
    "        return data_1"
   ]
  },
  {
   "cell_type": "code",
   "execution_count": 81,
   "metadata": {
    "scrolled": false
   },
   "outputs": [
    {
     "name": "stdout",
     "output_type": "stream",
     "text": [
      "Shape of Training Features (773292, 17)\n",
      "Shape of Validation Features  (193323, 17)\n"
     ]
    }
   ],
   "source": [
    "X_train, X_test, y_train, y_test=processDataForModelling(train,'fare_amount',drop_cols=['key','pickup_datetime'],is_train=True,split=0.2)"
   ]
  },
  {
   "cell_type": "code",
   "execution_count": 82,
   "metadata": {},
   "outputs": [
    {
     "data": {
      "image/png": "[encoded data removed]",
      "text/plain": [
       "<Figure size 432x288 with 1 Axes>"
      ]
     },
     "metadata": {
      "needs_background": "light"
     },
     "output_type": "display_data"
    }
   ],
   "source": [
    "#fig, ax = plt.subplots()\n",
    "#y_test.value_counts().plot(ax=ax, kind='bar')\n",
    "#plt.hist(y_test, bins='auto')\n",
    "plt.hist(y_test, bins=[0, 20, 40, 60, 80, 100, 120, 140, 160, 180, 200])\n",
    "plt.xlabel(\"Fare Amount\")\n",
    "plt.ylabel(\"Frequency\")\n",
    "fig = plt.gcf()\n",
    "fig.savefig('fare-amount-distribution2.png')\n",
    "plt.show()"
   ]
  },
  {
   "cell_type": "code",
   "execution_count": 83,
   "metadata": {
    "scrolled": true
   },
   "outputs": [
    {
     "name": "stdout",
     "output_type": "stream",
     "text": [
      "Shape of Test Data (9913, 17)\n"
     ]
    }
   ],
   "source": [
    "test_data=processDataForModelling(test,'fare_amount',drop_cols=['key','pickup_datetime'],is_train=False)"
   ]
  },
  {
   "cell_type": "code",
   "execution_count": 84,
   "metadata": {},
   "outputs": [
    {
     "name": "stdout",
     "output_type": "stream",
     "text": [
      "Basline RMSE of Validation data : 7.697757622386423\n",
      "Basline MAPE of Validation data : 60.468202999298605\n"
     ]
    }
   ],
   "source": [
    "avg_fare=round(np.mean(y_train),2)\n",
    "baseline_pred=np.repeat(avg_fare,y_test.shape[0])\n",
    "baseline_rmse=np.sqrt(mean_squared_error(baseline_pred, y_test))\n",
    "baseline_mape = np.mean(np.abs((y_test - baseline_pred)/y_test)) * 100\n",
    "print(\"Basline RMSE of Validation data :\",baseline_rmse)\n",
    "print(\"Basline MAPE of Validation data :\",baseline_mape)"
   ]
  },
  {
   "cell_type": "code",
   "execution_count": 85,
   "metadata": {},
   "outputs": [
    {
     "name": "stdout",
     "output_type": "stream",
     "text": [
      "RMSE for Linear Regression is  4.240823415995558\n",
      "MAPE for Linear Regression is: 25.14133268583712\n"
     ]
    }
   ],
   "source": [
    "lm = LinearRegression()\n",
    "lm.fit(X_train,y_train)\n",
    "y_pred=np.round(lm.predict(X_test),2)\n",
    "lm_rmse=np.sqrt(mean_squared_error(y_pred, y_test))\n",
    "lm_mape = np.mean(np.abs((y_test - y_pred)/y_test)) * 100\n",
    "print(\"RMSE for Linear Regression is \",lm_rmse)\n",
    "print(\"MAPE for Linear Regression is:\", lm_mape)"
   ]
  },
  {
   "cell_type": "code",
   "execution_count": 87,
   "metadata": {},
   "outputs": [
    {
     "data": {
      "image/png": "[encoded data removed]",
      "text/plain": [
       "<Figure size 432x288 with 1 Axes>"
      ]
     },
     "metadata": {
      "needs_background": "light"
     },
     "output_type": "display_data"
    }
   ],
   "source": [
    "#print(y_pred.shape)\n",
    "#print(y_test.shape)\n",
    "x = list(y_test)\n",
    "y_list = list(y_pred)\n",
    "y2_list = list(rf_pred)\n",
    "#print(x)\n",
    "fig, ax = plt.subplots()\n",
    "ax.plot([y_test.min(), y_test.max()], [y_test.min(), y_test.max()], label='Perfect Prediction')\n",
    "ax.plot(np.unique(x), np.poly1d(np.polyfit(x, y_list, 1))(np.unique(x)), label='Linear Regression with distance feature')\n",
    "ax.plot(np.unique(x), np.poly1d(np.polyfit(x, y2_list, 1))(np.unique(x)), label='Random Forest with 100 estimators')\n",
    "legend = ax.legend(loc='upper left', shadow=True)\n",
    "plt.xlabel(\"Actual Fare Amount\")\n",
    "plt.ylabel(\"Predicted Fare Amount\")\n",
    "fig = plt.gcf()\n",
    "fig.savefig('accuracy-comparison.png')\n",
    "plt.show()"
   ]
  },
  {
   "cell_type": "code",
   "execution_count": 86,
   "metadata": {
    "scrolled": true
   },
   "outputs": [
    {
     "name": "stderr",
     "output_type": "stream",
     "text": [
      "[Parallel(n_jobs=-1)]: Using backend ThreadingBackend with 24 concurrent workers.\n"
     ]
    },
    {
     "name": "stdout",
     "output_type": "stream",
     "text": [
      "building tree 1 of 100building tree 2 of 100building tree 3 of 100building tree 4 of 100building tree 5 of 100\n",
      "building tree 6 of 100building tree 7 of 100building tree 8 of 100building tree 9 of 100\n",
      "building tree 10 of 100\n",
      "\n",
      "building tree 11 of 100\n",
      "building tree 12 of 100building tree 13 of 100\n",
      "building tree 14 of 100building tree 15 of 100\n",
      "building tree 16 of 100building tree 17 of 100building tree 18 of 100\n",
      "\n",
      "\n",
      "\n",
      "building tree 19 of 100building tree 20 of 100\n",
      "building tree 21 of 100\n",
      "building tree 22 of 100\n",
      "\n",
      "\n",
      "\n",
      "\n",
      "\n",
      "building tree 23 of 100\n",
      "\n",
      "\n",
      "\n",
      "building tree 24 of 100\n",
      "building tree 25 of 100\n",
      "building tree 26 of 100\n",
      "building tree 27 of 100\n",
      "building tree 28 of 100\n",
      "building tree 29 of 100\n",
      "building tree 30 of 100\n",
      "building tree 31 of 100\n",
      "building tree 32 of 100\n",
      "building tree 33 of 100\n",
      "building tree 34 of 100\n",
      "building tree 35 of 100\n",
      "building tree 36 of 100\n",
      "building tree 37 of 100\n",
      "building tree 38 of 100\n",
      "building tree 39 of 100\n",
      "building tree 40 of 100\n",
      "building tree 41 of 100\n",
      "building tree 42 of 100\n",
      "building tree 43 of 100\n",
      "building tree 44 of 100\n",
      "building tree 45 of 100\n",
      "building tree 46 of 100\n",
      "building tree 47 of 100\n",
      "building tree 48 of 100\n",
      "building tree 49 of 100\n",
      "building tree 50 of 100\n",
      "building tree 51 of 100\n",
      "building tree 52 of 100\n",
      "building tree 53 of 100\n",
      "building tree 54 of 100\n",
      "building tree 55 of 100\n",
      "building tree 56 of 100\n",
      "building tree 57 of 100\n",
      "building tree 58 of 100\n",
      "building tree 59 of 100\n",
      "building tree 60 of 100\n",
      "building tree 61 of 100\n",
      "building tree 62 of 100\n",
      "building tree 63 of 100\n",
      "building tree 64 of 100\n",
      "building tree 65 of 100\n",
      "building tree 66 of 100\n",
      "building tree 67 of 100\n",
      "building tree 68 of 100\n",
      "building tree 69 of 100\n",
      "building tree 70 of 100\n",
      "building tree 71 of 100\n",
      "building tree 72 of 100\n",
      "building tree 73 of 100\n",
      "building tree 74 of 100\n",
      "building tree 75 of 100\n",
      "building tree 76 of 100\n",
      "building tree 77 of 100\n",
      "building tree 78 of 100\n",
      "building tree 79 of 100\n",
      "building tree 80 of 100\n",
      "building tree 81 of 100\n",
      "building tree 82 of 100\n",
      "building tree 83 of 100\n",
      "building tree 84 of 100\n",
      "building tree 85 of 100\n",
      "building tree 86 of 100\n",
      "building tree 87 of 100\n",
      "building tree 88 of 100\n",
      "building tree 89 of 100\n",
      "building tree 90 of 100\n",
      "building tree 91 of 100\n",
      "building tree 92 of 100building tree 93 of 100\n",
      "\n",
      "building tree 94 of 100\n",
      "building tree 95 of 100\n",
      "building tree 96 of 100\n",
      "building tree 97 of 100\n",
      "building tree 98 of 100\n",
      "building tree 99 of 100\n",
      "building tree 100 of 100\n"
     ]
    },
    {
     "name": "stderr",
     "output_type": "stream",
     "text": [
      "[Parallel(n_jobs=-1)]: Done 100 out of 100 | elapsed:  5.3min finished\n",
      "[Parallel(n_jobs=24)]: Using backend ThreadingBackend with 24 concurrent workers.\n",
      "[Parallel(n_jobs=24)]: Done 100 out of 100 | elapsed:    2.9s finished\n"
     ]
    },
    {
     "name": "stdout",
     "output_type": "stream",
     "text": [
      "RMSE for Random Forest is  2.8656269766343545\n",
      "MAPE for Random Forest is  18.104558558553535\n",
      "[0.03051665 0.0229748  0.03258211 0.03219019 0.00147621 0.01275877\n",
      " 0.01575397 0.01102682 0.02736695 0.80147584 0.00164509 0.00157848\n",
      " 0.00189936 0.00193522 0.00165744 0.00152642 0.00163567]\n"
     ]
    }
   ],
   "source": [
    "rf = RandomForestRegressor(n_estimators = 100, random_state = 1,n_jobs=-1, verbose=2)\n",
    "rf.fit(X_train,y_train)\n",
    "rf_pred= rf.predict(X_test)\n",
    "rf_rmse=np.sqrt(mean_squared_error(rf_pred, y_test))\n",
    "rf_mape = np.mean(np.abs((y_test - rf_pred)/y_test)) * 100\n",
    "print(\"RMSE for Random Forest is \",rf_rmse)\n",
    "print(\"MAPE for Random Forest is \",rf_mape)\n",
    "print(rf.feature_importances_)"
   ]
  },
  {
   "cell_type": "code",
   "execution_count": 15,
   "metadata": {},
   "outputs": [
    {
     "name": "stderr",
     "output_type": "stream",
     "text": [
      "[Parallel(n_jobs=-1)]: Using backend ThreadingBackend with 24 concurrent workers.\n"
     ]
    },
    {
     "name": "stdout",
     "output_type": "stream",
     "text": [
      "building tree 1 of 1\n"
     ]
    },
    {
     "name": "stderr",
     "output_type": "stream",
     "text": [
      "[Parallel(n_jobs=-1)]: Done   1 out of   1 | elapsed:   22.1s finished\n",
      "[Parallel(n_jobs=1)]: Using backend SequentialBackend with 1 concurrent workers.\n",
      "[Parallel(n_jobs=1)]: Done   1 out of   1 | elapsed:    0.2s remaining:    0.0s\n",
      "[Parallel(n_jobs=1)]: Done   1 out of   1 | elapsed:    0.2s finished\n"
     ]
    },
    {
     "name": "stdout",
     "output_type": "stream",
     "text": [
      "1\n",
      "RMSE for Random Forest is  5.549232683034081\n"
     ]
    },
    {
     "name": "stderr",
     "output_type": "stream",
     "text": [
      "[Parallel(n_jobs=-1)]: Using backend ThreadingBackend with 24 concurrent workers.\n"
     ]
    },
    {
     "name": "stdout",
     "output_type": "stream",
     "text": [
      "building tree 1 of 2\n",
      "building tree 2 of 2\n"
     ]
    },
    {
     "name": "stderr",
     "output_type": "stream",
     "text": [
      "[Parallel(n_jobs=-1)]: Done   2 out of   2 | elapsed:   20.9s finished\n",
      "[Parallel(n_jobs=2)]: Using backend ThreadingBackend with 2 concurrent workers.\n",
      "[Parallel(n_jobs=2)]: Done   2 out of   2 | elapsed:    0.3s finished\n"
     ]
    },
    {
     "name": "stdout",
     "output_type": "stream",
     "text": [
      "2\n",
      "RMSE for Random Forest is  4.845694775662842\n"
     ]
    },
    {
     "name": "stderr",
     "output_type": "stream",
     "text": [
      "[Parallel(n_jobs=-1)]: Using backend ThreadingBackend with 24 concurrent workers.\n"
     ]
    },
    {
     "name": "stdout",
     "output_type": "stream",
     "text": [
      "building tree 1 of 3\n",
      "building tree 2 of 3\n",
      "building tree 3 of 3\n"
     ]
    },
    {
     "name": "stderr",
     "output_type": "stream",
     "text": [
      "[Parallel(n_jobs=-1)]: Done   3 out of   3 | elapsed:   23.0s finished\n",
      "[Parallel(n_jobs=3)]: Using backend ThreadingBackend with 3 concurrent workers.\n",
      "[Parallel(n_jobs=3)]: Done   3 out of   3 | elapsed:    0.3s finished\n"
     ]
    },
    {
     "name": "stdout",
     "output_type": "stream",
     "text": [
      "3\n",
      "RMSE for Random Forest is  4.566965885649315\n"
     ]
    },
    {
     "name": "stderr",
     "output_type": "stream",
     "text": [
      "[Parallel(n_jobs=-1)]: Using backend ThreadingBackend with 24 concurrent workers.\n"
     ]
    },
    {
     "name": "stdout",
     "output_type": "stream",
     "text": [
      "building tree 1 of 4building tree 2 of 4\n",
      "\n",
      "building tree 3 of 4\n",
      "building tree 4 of 4\n"
     ]
    },
    {
     "name": "stderr",
     "output_type": "stream",
     "text": [
      "[Parallel(n_jobs=-1)]: Done   2 out of   4 | elapsed:   22.8s remaining:   22.8s\n",
      "[Parallel(n_jobs=-1)]: Done   4 out of   4 | elapsed:   23.1s finished\n",
      "[Parallel(n_jobs=4)]: Using backend ThreadingBackend with 4 concurrent workers.\n",
      "[Parallel(n_jobs=4)]: Done   4 out of   4 | elapsed:    0.3s finished\n"
     ]
    },
    {
     "name": "stdout",
     "output_type": "stream",
     "text": [
      "4\n",
      "RMSE for Random Forest is  4.384056457769695\n"
     ]
    },
    {
     "name": "stderr",
     "output_type": "stream",
     "text": [
      "[Parallel(n_jobs=-1)]: Using backend ThreadingBackend with 24 concurrent workers.\n"
     ]
    },
    {
     "name": "stdout",
     "output_type": "stream",
     "text": [
      "building tree 1 of 5building tree 2 of 5\n",
      "building tree 3 of 5\n",
      "\n",
      "building tree 4 of 5building tree 5 of 5\n",
      "\n"
     ]
    },
    {
     "name": "stderr",
     "output_type": "stream",
     "text": [
      "[Parallel(n_jobs=-1)]: Done   3 out of   5 | elapsed:   24.2s remaining:   16.1s\n",
      "[Parallel(n_jobs=-1)]: Done   5 out of   5 | elapsed:   27.7s finished\n",
      "[Parallel(n_jobs=5)]: Using backend ThreadingBackend with 5 concurrent workers.\n",
      "[Parallel(n_jobs=5)]: Done   2 out of   5 | elapsed:    0.3s remaining:    0.4s\n",
      "[Parallel(n_jobs=5)]: Done   5 out of   5 | elapsed:    0.4s remaining:    0.0s\n",
      "[Parallel(n_jobs=5)]: Done   5 out of   5 | elapsed:    0.4s finished\n"
     ]
    },
    {
     "name": "stdout",
     "output_type": "stream",
     "text": [
      "5\n",
      "RMSE for Random Forest is  4.286975915289767\n",
      "building tree 1 of 6\n"
     ]
    },
    {
     "name": "stderr",
     "output_type": "stream",
     "text": [
      "[Parallel(n_jobs=-1)]: Using backend ThreadingBackend with 24 concurrent workers.\n"
     ]
    },
    {
     "name": "stdout",
     "output_type": "stream",
     "text": [
      "building tree 2 of 6\n",
      "building tree 3 of 6\n",
      "building tree 4 of 6\n",
      "building tree 5 of 6\n",
      "building tree 6 of 6\n"
     ]
    },
    {
     "name": "stderr",
     "output_type": "stream",
     "text": [
      "[Parallel(n_jobs=-1)]: Done   3 out of   6 | elapsed:   23.8s remaining:   23.8s\n",
      "[Parallel(n_jobs=-1)]: Done   6 out of   6 | elapsed:   25.0s finished\n",
      "[Parallel(n_jobs=6)]: Using backend ThreadingBackend with 6 concurrent workers.\n",
      "[Parallel(n_jobs=6)]: Done   3 out of   6 | elapsed:    0.3s remaining:    0.3s\n",
      "[Parallel(n_jobs=6)]: Done   6 out of   6 | elapsed:    0.3s finished\n"
     ]
    },
    {
     "name": "stdout",
     "output_type": "stream",
     "text": [
      "6\n",
      "RMSE for Random Forest is  4.2127454168939025\n"
     ]
    },
    {
     "name": "stderr",
     "output_type": "stream",
     "text": [
      "[Parallel(n_jobs=-1)]: Using backend ThreadingBackend with 24 concurrent workers.\n"
     ]
    },
    {
     "name": "stdout",
     "output_type": "stream",
     "text": [
      "building tree 1 of 10\n",
      "building tree 2 of 10\n",
      "building tree 3 of 10building tree 4 of 10building tree 5 of 10\n",
      "building tree 6 of 10\n",
      "\n",
      "building tree 7 of 10\n",
      "building tree 8 of 10building tree 9 of 10\n",
      "\n",
      "building tree 10 of 10\n",
      "\n"
     ]
    },
    {
     "name": "stderr",
     "output_type": "stream",
     "text": [
      "[Parallel(n_jobs=-1)]: Done   5 out of  10 | elapsed:   25.7s remaining:   25.7s\n",
      "[Parallel(n_jobs=-1)]: Done  10 out of  10 | elapsed:   27.3s finished\n",
      "[Parallel(n_jobs=10)]: Using backend ThreadingBackend with 10 concurrent workers.\n",
      "[Parallel(n_jobs=10)]: Done   3 out of  10 | elapsed:    0.3s remaining:    0.8s\n",
      "[Parallel(n_jobs=10)]: Done  10 out of  10 | elapsed:    0.4s finished\n"
     ]
    },
    {
     "name": "stdout",
     "output_type": "stream",
     "text": [
      "10\n",
      "RMSE for Random Forest is  4.066950785738259\n",
      "building tree 1 of 20\n",
      "building tree 2 of 20\n",
      "building tree 3 of 20building tree 4 of 20\n",
      "building tree 5 of 20\n",
      "building tree 6 of 20\n",
      "building tree 7 of 20\n",
      "building tree 8 of 20\n",
      "building tree 9 of 20\n",
      "building tree 10 of 20\n",
      "building tree 11 of 20\n",
      "building tree 12 of 20building tree 13 of 20\n",
      "building tree 14 of 20\n",
      "\n",
      "\n",
      "building tree 15 of 20\n",
      "building tree 16 of 20\n",
      "building tree 17 of 20\n",
      "building tree 18 of 20\n",
      "building tree 19 of 20\n",
      "building tree 20 of 20\n"
     ]
    },
    {
     "name": "stderr",
     "output_type": "stream",
     "text": [
      "[Parallel(n_jobs=-1)]: Using backend ThreadingBackend with 24 concurrent workers.\n",
      "[Parallel(n_jobs=-1)]: Done   6 out of  20 | elapsed:   37.1s remaining:  1.4min\n",
      "[Parallel(n_jobs=-1)]: Done  17 out of  20 | elapsed:   41.1s remaining:    7.3s\n",
      "[Parallel(n_jobs=-1)]: Done  20 out of  20 | elapsed:   42.0s finished\n",
      "[Parallel(n_jobs=20)]: Using backend ThreadingBackend with 20 concurrent workers.\n",
      "[Parallel(n_jobs=20)]: Done   3 out of  20 | elapsed:    0.3s remaining:    1.7s\n",
      "[Parallel(n_jobs=20)]: Done  14 out of  20 | elapsed:    0.6s remaining:    0.3s\n",
      "[Parallel(n_jobs=20)]: Done  20 out of  20 | elapsed:    0.8s finished\n"
     ]
    },
    {
     "name": "stdout",
     "output_type": "stream",
     "text": [
      "20\n",
      "RMSE for Random Forest is  3.9540803291402433\n"
     ]
    },
    {
     "name": "stderr",
     "output_type": "stream",
     "text": [
      "[Parallel(n_jobs=-1)]: Using backend ThreadingBackend with 24 concurrent workers.\n"
     ]
    },
    {
     "name": "stdout",
     "output_type": "stream",
     "text": [
      "building tree 1 of 30\n",
      "building tree 2 of 30\n",
      "building tree 3 of 30\n",
      "building tree 4 of 30building tree 5 of 30\n",
      "building tree 6 of 30\n",
      "building tree 7 of 30\n",
      "building tree 8 of 30\n",
      "building tree 9 of 30\n",
      "building tree 10 of 30\n",
      "building tree 11 of 30\n",
      "building tree 12 of 30\n",
      "building tree 13 of 30\n",
      "building tree 14 of 30\n",
      "building tree 15 of 30\n",
      "building tree 16 of 30building tree 17 of 30\n",
      "building tree 18 of 30\n",
      "\n",
      "building tree 19 of 30\n",
      "building tree 20 of 30\n",
      "building tree 21 of 30building tree 22 of 30building tree 23 of 30\n",
      "\n",
      "\n",
      "building tree 24 of 30\n",
      "\n",
      "building tree 25 of 30\n",
      "building tree 26 of 30\n",
      "building tree 27 of 30\n",
      "building tree 28 of 30\n",
      "building tree 29 of 30\n",
      "building tree 30 of 30\n"
     ]
    },
    {
     "name": "stderr",
     "output_type": "stream",
     "text": [
      "[Parallel(n_jobs=-1)]: Done  15 out of  30 | elapsed:   47.7s remaining:   47.7s\n",
      "[Parallel(n_jobs=-1)]: Done  30 out of  30 | elapsed:  1.2min finished\n",
      "[Parallel(n_jobs=24)]: Using backend ThreadingBackend with 24 concurrent workers.\n",
      "[Parallel(n_jobs=24)]: Done  15 out of  30 | elapsed:    1.0s remaining:    1.0s\n",
      "[Parallel(n_jobs=24)]: Done  30 out of  30 | elapsed:    1.2s finished\n"
     ]
    },
    {
     "name": "stdout",
     "output_type": "stream",
     "text": [
      "30\n",
      "RMSE for Random Forest is  3.936414137767052\n"
     ]
    },
    {
     "name": "stderr",
     "output_type": "stream",
     "text": [
      "[Parallel(n_jobs=-1)]: Using backend ThreadingBackend with 24 concurrent workers.\n"
     ]
    },
    {
     "name": "stdout",
     "output_type": "stream",
     "text": [
      "building tree 1 of 40building tree 2 of 40\n",
      "building tree 3 of 40\n",
      "building tree 4 of 40\n",
      "building tree 5 of 40\n",
      "building tree 6 of 40\n",
      "building tree 7 of 40\n",
      "building tree 8 of 40building tree 9 of 40\n",
      "building tree 10 of 40\n",
      "building tree 11 of 40building tree 12 of 40\n",
      "building tree 13 of 40\n",
      "building tree 14 of 40\n",
      "\n",
      "building tree 15 of 40\n",
      "building tree 16 of 40\n",
      "building tree 17 of 40\n",
      "building tree 18 of 40\n",
      "building tree 19 of 40building tree 20 of 40\n",
      "building tree 21 of 40\n",
      "\n",
      "building tree 22 of 40\n",
      "\n",
      "building tree 23 of 40\n",
      "building tree 24 of 40\n",
      "\n"
     ]
    },
    {
     "name": "stderr",
     "output_type": "stream",
     "text": [
      "[Parallel(n_jobs=-1)]: Done   1 tasks      | elapsed:   39.8s\n"
     ]
    },
    {
     "name": "stdout",
     "output_type": "stream",
     "text": [
      "building tree 25 of 40\n",
      "building tree 26 of 40\n",
      "building tree 27 of 40\n",
      "building tree 28 of 40\n",
      "building tree 29 of 40\n",
      "building tree 30 of 40\n",
      "building tree 31 of 40\n",
      "building tree 32 of 40\n",
      "building tree 33 of 40\n",
      "building tree 34 of 40\n",
      "building tree 35 of 40\n",
      "building tree 36 of 40\n",
      "building tree 37 of 40\n",
      "building tree 38 of 40"
     ]
    },
    {
     "name": "stderr",
     "output_type": "stream",
     "text": [
      "[Parallel(n_jobs=-1)]: Done  14 out of  40 | elapsed:   47.6s remaining:  1.5min\n"
     ]
    },
    {
     "name": "stdout",
     "output_type": "stream",
     "text": [
      "\n",
      "building tree 39 of 40\n",
      "building tree 40 of 40\n"
     ]
    },
    {
     "name": "stderr",
     "output_type": "stream",
     "text": [
      "[Parallel(n_jobs=-1)]: Done  35 out of  40 | elapsed:  1.4min remaining:   11.6s\n",
      "[Parallel(n_jobs=-1)]: Done  40 out of  40 | elapsed:  1.4min finished\n",
      "[Parallel(n_jobs=24)]: Using backend ThreadingBackend with 24 concurrent workers.\n",
      "[Parallel(n_jobs=24)]: Done   1 tasks      | elapsed:    0.2s\n",
      "[Parallel(n_jobs=24)]: Done  14 out of  40 | elapsed:    0.9s remaining:    1.6s\n",
      "[Parallel(n_jobs=24)]: Done  35 out of  40 | elapsed:    1.3s remaining:    0.2s\n",
      "[Parallel(n_jobs=24)]: Done  40 out of  40 | elapsed:    1.4s finished\n"
     ]
    },
    {
     "name": "stdout",
     "output_type": "stream",
     "text": [
      "40\n",
      "RMSE for Random Forest is  3.9152112126156426\n"
     ]
    },
    {
     "name": "stderr",
     "output_type": "stream",
     "text": [
      "[Parallel(n_jobs=-1)]: Using backend ThreadingBackend with 24 concurrent workers.\n"
     ]
    },
    {
     "name": "stdout",
     "output_type": "stream",
     "text": [
      "building tree 1 of 50building tree 2 of 50\n",
      "building tree 3 of 50\n",
      "building tree 4 of 50\n",
      "building tree 5 of 50\n",
      "building tree 6 of 50\n",
      "building tree 7 of 50\n",
      "building tree 8 of 50\n",
      "building tree 9 of 50\n",
      "building tree 10 of 50\n",
      "building tree 11 of 50building tree 12 of 50\n",
      "\n",
      "building tree 13 of 50\n",
      "building tree 14 of 50\n",
      "building tree 15 of 50building tree 16 of 50\n",
      "building tree 17 of 50\n",
      "building tree 18 of 50\n",
      "building tree 19 of 50\n",
      "building tree 20 of 50\n",
      "building tree 21 of 50\n",
      "\n",
      "\n",
      "building tree 22 of 50building tree 23 of 50\n",
      "building tree 24 of 50\n",
      "\n",
      "building tree 25 of 50\n",
      "building tree 26 of 50\n",
      "building tree 27 of 50\n",
      "building tree 28 of 50\n",
      "building tree 29 of 50\n",
      "building tree 30 of 50\n",
      "building tree 31 of 50\n",
      "building tree 32 of 50\n",
      "building tree 33 of 50\n",
      "building tree 34 of 50\n",
      "building tree 35 of 50\n",
      "building tree 36 of 50\n",
      "building tree 37 of 50\n",
      "building tree 38 of 50\n",
      "building tree 39 of 50\n",
      "building tree 40 of 50\n",
      "building tree 41 of 50\n",
      "building tree 42 of 50\n",
      "building tree 43 of 50\n",
      "building tree 44 of 50\n",
      "building tree 45 of 50\n",
      "building tree 46 of 50\n",
      "building tree 47 of 50\n",
      "building tree 48 of 50\n",
      "building tree 49 of 50\n",
      "building tree 50 of 50\n"
     ]
    },
    {
     "name": "stderr",
     "output_type": "stream",
     "text": [
      "[Parallel(n_jobs=-1)]: Done  29 out of  50 | elapsed:  1.4min remaining:   59.5s\n",
      "[Parallel(n_jobs=-1)]: Done  50 out of  50 | elapsed:  1.8min finished\n",
      "[Parallel(n_jobs=24)]: Using backend ThreadingBackend with 24 concurrent workers.\n",
      "[Parallel(n_jobs=24)]: Done  29 out of  50 | elapsed:    1.4s remaining:    1.0s\n",
      "[Parallel(n_jobs=24)]: Done  50 out of  50 | elapsed:    1.9s finished\n"
     ]
    },
    {
     "name": "stdout",
     "output_type": "stream",
     "text": [
      "50\n",
      "RMSE for Random Forest is  3.9021038028182886\n"
     ]
    },
    {
     "name": "stderr",
     "output_type": "stream",
     "text": [
      "[Parallel(n_jobs=-1)]: Using backend ThreadingBackend with 24 concurrent workers.\n"
     ]
    },
    {
     "name": "stdout",
     "output_type": "stream",
     "text": [
      "building tree 1 of 60building tree 2 of 60\n",
      "building tree 3 of 60\n",
      "building tree 4 of 60\n",
      "\n",
      "building tree 5 of 60\n",
      "building tree 6 of 60building tree 7 of 60building tree 8 of 60\n",
      "building tree 9 of 60\n",
      "building tree 10 of 60building tree 11 of 60\n",
      "building tree 12 of 60\n",
      "building tree 13 of 60\n",
      "building tree 14 of 60\n",
      "building tree 15 of 60\n",
      "building tree 16 of 60\n",
      "building tree 17 of 60\n",
      "building tree 18 of 60\n",
      "building tree 19 of 60\n",
      "\n",
      "building tree 20 of 60\n",
      "building tree 21 of 60\n",
      "building tree 22 of 60\n",
      "\n",
      "building tree 23 of 60\n",
      "\n",
      "building tree 24 of 60\n",
      "building tree 25 of 60\n",
      "building tree 26 of 60\n",
      "building tree 27 of 60\n",
      "building tree 28 of 60\n",
      "building tree 29 of 60\n",
      "building tree 30 of 60\n",
      "building tree 31 of 60\n",
      "building tree 32 of 60\n",
      "building tree 33 of 60\n",
      "building tree 34 of 60\n",
      "building tree 35 of 60\n",
      "building tree 36 of 60\n",
      "building tree 37 of 60\n",
      "building tree 38 of 60\n",
      "building tree 39 of 60\n",
      "building tree 40 of 60\n",
      "building tree 41 of 60\n",
      "building tree 42 of 60\n",
      "building tree 43 of 60\n",
      "building tree 44 of 60\n",
      "building tree 45 of 60\n",
      "building tree 46 of 60\n",
      "building tree 47 of 60\n",
      "building tree 48 of 60\n",
      "building tree 49 of 60building tree 50 of 60\n",
      "\n",
      "building tree 51 of 60\n",
      "building tree 52 of 60\n",
      "building tree 53 of 60\n",
      "building tree 54 of 60\n",
      "building tree 55 of 60\n",
      "building tree 56 of 60\n",
      "building tree 57 of 60\n",
      "building tree 58 of 60\n",
      "building tree 59 of 60\n",
      "building tree 60 of 60\n"
     ]
    },
    {
     "name": "stderr",
     "output_type": "stream",
     "text": [
      "[Parallel(n_jobs=-1)]: Done  44 out of  60 | elapsed:  1.5min remaining:   32.5s\n",
      "[Parallel(n_jobs=-1)]: Done  60 out of  60 | elapsed:  2.0min finished\n",
      "[Parallel(n_jobs=24)]: Using backend ThreadingBackend with 24 concurrent workers.\n",
      "[Parallel(n_jobs=24)]: Done  44 out of  60 | elapsed:    1.8s remaining:    0.7s\n",
      "[Parallel(n_jobs=24)]: Done  60 out of  60 | elapsed:    2.0s finished\n"
     ]
    },
    {
     "name": "stdout",
     "output_type": "stream",
     "text": [
      "60\n",
      "RMSE for Random Forest is  3.8904691463164176\n"
     ]
    },
    {
     "name": "stderr",
     "output_type": "stream",
     "text": [
      "[Parallel(n_jobs=-1)]: Using backend ThreadingBackend with 24 concurrent workers.\n"
     ]
    },
    {
     "name": "stdout",
     "output_type": "stream",
     "text": [
      "building tree 1 of 70\n",
      "building tree 2 of 70\n",
      "building tree 3 of 70\n",
      "building tree 4 of 70\n",
      "building tree 5 of 70building tree 6 of 70\n",
      "building tree 7 of 70\n",
      "building tree 8 of 70\n",
      "building tree 9 of 70building tree 10 of 70\n",
      "building tree 11 of 70\n",
      "\n",
      "building tree 12 of 70\n",
      "building tree 13 of 70\n",
      "building tree 14 of 70\n",
      "building tree 15 of 70\n",
      "building tree 16 of 70\n",
      "building tree 17 of 70\n",
      "building tree 18 of 70\n",
      "building tree 19 of 70\n",
      "\n",
      "building tree 20 of 70\n",
      "building tree 21 of 70\n",
      "building tree 22 of 70\n",
      "building tree 23 of 70\n",
      "building tree 24 of 70\n",
      "building tree 25 of 70\n",
      "building tree 26 of 70\n",
      "building tree 27 of 70\n",
      "building tree 28 of 70\n",
      "building tree 29 of 70\n",
      "building tree 30 of 70\n",
      "building tree 31 of 70\n",
      "building tree 32 of 70\n",
      "building tree 33 of 70\n",
      "building tree 34 of 70\n",
      "building tree 35 of 70\n",
      "building tree 36 of 70\n",
      "building tree 37 of 70\n",
      "building tree 38 of 70building tree 39 of 70\n",
      "\n",
      "building tree 40 of 70\n",
      "building tree 41 of 70\n",
      "building tree 42 of 70\n",
      "building tree 43 of 70\n",
      "building tree 44 of 70\n",
      "building tree 45 of 70\n",
      "building tree 46 of 70\n",
      "building tree 47 of 70\n",
      "building tree 48 of 70\n",
      "building tree 49 of 70\n",
      "building tree 50 of 70\n",
      "building tree 51 of 70\n",
      "building tree 52 of 70\n",
      "building tree 53 of 70\n",
      "building tree 54 of 70building tree 55 of 70\n",
      "\n",
      "building tree 56 of 70\n",
      "building tree 57 of 70\n",
      "building tree 58 of 70\n",
      "building tree 59 of 70\n",
      "building tree 60 of 70\n",
      "building tree 61 of 70\n",
      "building tree 62 of 70\n",
      "building tree 63 of 70building tree 64 of 70\n",
      "building tree 65 of 70\n",
      "\n",
      "building tree 66 of 70\n",
      "building tree 67 of 70\n",
      "building tree 68 of 70\n",
      "building tree 69 of 70\n",
      "building tree 70 of 70\n"
     ]
    },
    {
     "name": "stderr",
     "output_type": "stream",
     "text": [
      "[Parallel(n_jobs=-1)]: Done  59 out of  70 | elapsed:  2.2min remaining:   24.5s\n",
      "[Parallel(n_jobs=-1)]: Done  70 out of  70 | elapsed:  2.3min finished\n",
      "[Parallel(n_jobs=24)]: Using backend ThreadingBackend with 24 concurrent workers.\n",
      "[Parallel(n_jobs=24)]: Done  59 out of  70 | elapsed:    1.8s remaining:    0.3s\n",
      "[Parallel(n_jobs=24)]: Done  70 out of  70 | elapsed:    2.1s finished\n"
     ]
    },
    {
     "name": "stdout",
     "output_type": "stream",
     "text": [
      "70\n",
      "RMSE for Random Forest is  3.8848208546964047\n"
     ]
    },
    {
     "name": "stderr",
     "output_type": "stream",
     "text": [
      "[Parallel(n_jobs=-1)]: Using backend ThreadingBackend with 24 concurrent workers.\n"
     ]
    },
    {
     "name": "stdout",
     "output_type": "stream",
     "text": [
      "building tree 1 of 80\n",
      "building tree 2 of 80\n",
      "building tree 3 of 80\n",
      "building tree 4 of 80\n",
      "building tree 5 of 80\n",
      "building tree 6 of 80\n",
      "building tree 7 of 80\n",
      "building tree 8 of 80\n",
      "building tree 9 of 80building tree 10 of 80\n",
      "building tree 11 of 80\n",
      "building tree 12 of 80\n",
      "building tree 13 of 80\n",
      "building tree 14 of 80\n",
      "\n",
      "building tree 15 of 80\n",
      "building tree 16 of 80\n",
      "building tree 17 of 80\n",
      "building tree 18 of 80\n",
      "building tree 19 of 80\n",
      "building tree 20 of 80\n",
      "building tree 21 of 80\n",
      "building tree 22 of 80\n",
      "building tree 23 of 80\n",
      "building tree 24 of 80\n",
      "building tree 25 of 80\n",
      "building tree 26 of 80\n",
      "building tree 27 of 80\n",
      "building tree 28 of 80\n",
      "building tree 29 of 80\n",
      "building tree 30 of 80\n",
      "building tree 31 of 80\n",
      "building tree 32 of 80\n",
      "building tree 33 of 80\n",
      "building tree 34 of 80\n",
      "building tree 35 of 80\n",
      "building tree 36 of 80\n",
      "building tree 37 of 80\n",
      "building tree 38 of 80\n",
      "building tree 39 of 80\n",
      "building tree 40 of 80\n",
      "building tree 41 of 80\n",
      "building tree 42 of 80\n",
      "building tree 43 of 80\n",
      "building tree 44 of 80\n",
      "building tree 45 of 80\n",
      "building tree 46 of 80\n",
      "building tree 47 of 80\n",
      "building tree 48 of 80\n",
      "building tree 49 of 80\n",
      "building tree 50 of 80\n",
      "building tree 51 of 80\n",
      "building tree 52 of 80\n",
      "building tree 53 of 80\n",
      "building tree 54 of 80\n",
      "building tree 55 of 80\n",
      "building tree 56 of 80\n",
      "building tree 57 of 80\n",
      "building tree 58 of 80\n",
      "building tree 59 of 80\n",
      "building tree 60 of 80\n",
      "building tree 61 of 80\n",
      "building tree 62 of 80\n",
      "building tree 63 of 80\n",
      "building tree 64 of 80\n",
      "building tree 65 of 80\n",
      "building tree 66 of 80\n",
      "building tree 67 of 80\n",
      "building tree 68 of 80\n",
      "building tree 69 of 80\n",
      "building tree 70 of 80\n",
      "building tree 71 of 80\n",
      "building tree 72 of 80\n",
      "building tree 73 of 80\n",
      "building tree 74 of 80\n",
      "building tree 75 of 80\n",
      "building tree 76 of 80\n",
      "building tree 77 of 80\n",
      "building tree 78 of 80\n",
      "building tree 79 of 80\n",
      "building tree 80 of 80\n"
     ]
    },
    {
     "name": "stderr",
     "output_type": "stream",
     "text": [
      "[Parallel(n_jobs=-1)]: Done  74 out of  80 | elapsed:  5.7min remaining:   27.9s\n",
      "[Parallel(n_jobs=-1)]: Done  80 out of  80 | elapsed:  5.9min finished\n",
      "[Parallel(n_jobs=24)]: Using backend ThreadingBackend with 24 concurrent workers.\n",
      "[Parallel(n_jobs=24)]: Done  74 out of  80 | elapsed:    2.8s remaining:    0.2s\n",
      "[Parallel(n_jobs=24)]: Done  80 out of  80 | elapsed:    3.0s finished\n"
     ]
    },
    {
     "name": "stdout",
     "output_type": "stream",
     "text": [
      "80\n",
      "RMSE for Random Forest is  3.8836149989122397\n"
     ]
    },
    {
     "name": "stderr",
     "output_type": "stream",
     "text": [
      "[Parallel(n_jobs=-1)]: Using backend ThreadingBackend with 24 concurrent workers.\n"
     ]
    },
    {
     "name": "stdout",
     "output_type": "stream",
     "text": [
      "building tree 1 of 90building tree 2 of 90\n",
      "building tree 3 of 90\n",
      "building tree 4 of 90\n",
      "building tree 5 of 90\n",
      "building tree 6 of 90\n",
      "building tree 7 of 90building tree 8 of 90\n",
      "building tree 9 of 90\n",
      "building tree 10 of 90\n",
      "\n",
      "building tree 11 of 90\n",
      "building tree 12 of 90\n",
      "building tree 13 of 90\n",
      "building tree 14 of 90\n",
      "building tree 15 of 90\n",
      "building tree 16 of 90\n",
      "building tree 17 of 90\n",
      "building tree 18 of 90building tree 19 of 90\n",
      "\n",
      "\n",
      "building tree 20 of 90\n",
      "building tree 21 of 90\n",
      "building tree 22 of 90building tree 23 of 90\n",
      "\n",
      "building tree 24 of 90\n",
      "building tree 25 of 90\n",
      "building tree 26 of 90\n",
      "building tree 27 of 90\n",
      "building tree 28 of 90\n",
      "building tree 29 of 90\n",
      "building tree 30 of 90\n",
      "building tree 31 of 90\n",
      "building tree 32 of 90\n",
      "building tree 33 of 90\n",
      "building tree 34 of 90\n",
      "building tree 35 of 90\n",
      "building tree 36 of 90\n",
      "building tree 37 of 90\n",
      "building tree 38 of 90\n",
      "building tree 39 of 90\n",
      "building tree 40 of 90\n",
      "building tree 41 of 90\n",
      "building tree 42 of 90\n",
      "building tree 43 of 90\n",
      "building tree 44 of 90\n",
      "building tree 45 of 90\n",
      "building tree 46 of 90\n",
      "building tree 47 of 90\n",
      "building tree 48 of 90\n",
      "building tree 49 of 90\n",
      "building tree 50 of 90\n",
      "building tree 51 of 90\n",
      "building tree 52 of 90\n",
      "building tree 53 of 90\n",
      "building tree 54 of 90\n",
      "building tree 55 of 90\n",
      "building tree 56 of 90\n",
      "building tree 57 of 90\n",
      "building tree 58 of 90\n",
      "building tree 59 of 90\n",
      "building tree 60 of 90\n",
      "building tree 61 of 90\n",
      "building tree 62 of 90\n",
      "building tree 63 of 90\n",
      "building tree 64 of 90\n",
      "building tree 65 of 90\n",
      "building tree 66 of 90\n",
      "building tree 67 of 90\n",
      "building tree 68 of 90\n",
      "building tree 69 of 90\n",
      "building tree 70 of 90\n",
      "building tree 71 of 90\n",
      "building tree 72 of 90\n",
      "building tree 73 of 90\n",
      "building tree 74 of 90\n",
      "building tree 75 of 90\n",
      "building tree 76 of 90\n",
      "building tree 77 of 90\n",
      "building tree 78 of 90\n",
      "building tree 79 of 90\n",
      "building tree 80 of 90\n",
      "building tree 81 of 90\n",
      "building tree 82 of 90\n",
      "building tree 83 of 90building tree 84 of 90\n",
      "\n",
      "building tree 85 of 90\n",
      "building tree 86 of 90\n",
      "building tree 87 of 90\n",
      "building tree 88 of 90\n",
      "building tree 89 of 90\n",
      "building tree 90 of 90\n"
     ]
    },
    {
     "name": "stderr",
     "output_type": "stream",
     "text": [
      "[Parallel(n_jobs=-1)]: Done  90 out of  90 | elapsed:  3.7min finished\n",
      "[Parallel(n_jobs=24)]: Using backend ThreadingBackend with 24 concurrent workers.\n",
      "[Parallel(n_jobs=24)]: Done  90 out of  90 | elapsed:    3.0s finished\n"
     ]
    },
    {
     "name": "stdout",
     "output_type": "stream",
     "text": [
      "90\n",
      "RMSE for Random Forest is  3.8804387286359194\n"
     ]
    },
    {
     "name": "stderr",
     "output_type": "stream",
     "text": [
      "[Parallel(n_jobs=-1)]: Using backend ThreadingBackend with 24 concurrent workers.\n"
     ]
    },
    {
     "name": "stdout",
     "output_type": "stream",
     "text": [
      "building tree 1 of 100building tree 2 of 100\n",
      "building tree 3 of 100\n",
      "building tree 4 of 100\n",
      "building tree 5 of 100\n",
      "building tree 6 of 100\n",
      "building tree 7 of 100\n",
      "building tree 8 of 100\n",
      "building tree 9 of 100\n",
      "building tree 10 of 100\n",
      "building tree 11 of 100\n",
      "building tree 12 of 100\n",
      "building tree 13 of 100\n",
      "building tree 14 of 100\n",
      "building tree 15 of 100\n",
      "building tree 16 of 100\n",
      "building tree 17 of 100\n",
      "building tree 18 of 100\n",
      "building tree 19 of 100\n",
      "building tree 20 of 100\n",
      "building tree 21 of 100\n",
      "building tree 22 of 100\n",
      "building tree 23 of 100\n",
      "\n",
      "building tree 24 of 100\n",
      "building tree 25 of 100\n",
      "building tree 26 of 100\n",
      "building tree 27 of 100\n",
      "building tree 28 of 100\n",
      "building tree 29 of 100\n",
      "building tree 30 of 100\n",
      "building tree 31 of 100\n",
      "building tree 32 of 100\n",
      "building tree 33 of 100\n",
      "building tree 34 of 100\n",
      "building tree 35 of 100\n",
      "building tree 36 of 100\n",
      "building tree 37 of 100\n",
      "building tree 38 of 100building tree 39 of 100\n",
      "\n",
      "building tree 40 of 100\n",
      "building tree 41 of 100\n",
      "building tree 42 of 100\n",
      "building tree 43 of 100\n",
      "building tree 44 of 100\n",
      "building tree 45 of 100\n",
      "building tree 46 of 100\n",
      "building tree 47 of 100\n",
      "building tree 48 of 100\n",
      "building tree 49 of 100\n",
      "building tree 50 of 100\n",
      "building tree 51 of 100\n",
      "building tree 52 of 100\n",
      "building tree 53 of 100\n",
      "building tree 54 of 100\n",
      "building tree 55 of 100\n",
      "building tree 56 of 100\n",
      "building tree 57 of 100\n",
      "building tree 58 of 100\n",
      "building tree 59 of 100\n",
      "building tree 60 of 100\n",
      "building tree 61 of 100\n",
      "building tree 62 of 100\n",
      "building tree 63 of 100\n",
      "building tree 64 of 100\n",
      "building tree 65 of 100\n",
      "building tree 66 of 100\n",
      "building tree 67 of 100\n",
      "building tree 68 of 100\n",
      "building tree 69 of 100\n",
      "building tree 70 of 100\n",
      "building tree 71 of 100\n",
      "building tree 72 of 100\n",
      "building tree 73 of 100\n",
      "building tree 74 of 100\n",
      "building tree 75 of 100\n",
      "building tree 76 of 100\n",
      "building tree 77 of 100\n",
      "building tree 78 of 100\n",
      "building tree 79 of 100\n",
      "building tree 80 of 100\n",
      "building tree 81 of 100\n",
      "building tree 82 of 100\n",
      "building tree 83 of 100\n",
      "building tree 84 of 100\n",
      "building tree 85 of 100\n",
      "building tree 86 of 100\n",
      "building tree 87 of 100\n",
      "building tree 88 of 100\n",
      "building tree 89 of 100\n",
      "building tree 90 of 100\n",
      "building tree 91 of 100\n",
      "building tree 92 of 100\n",
      "building tree 93 of 100\n",
      "building tree 94 of 100\n",
      "building tree 95 of 100\n",
      "building tree 96 of 100\n",
      "building tree 97 of 100\n",
      "building tree 98 of 100\n",
      "building tree 99 of 100\n",
      "building tree 100 of 100\n"
     ]
    },
    {
     "name": "stderr",
     "output_type": "stream",
     "text": [
      "[Parallel(n_jobs=-1)]: Done 100 out of 100 | elapsed:  3.3min finished\n",
      "[Parallel(n_jobs=24)]: Using backend ThreadingBackend with 24 concurrent workers.\n",
      "[Parallel(n_jobs=24)]: Done 100 out of 100 | elapsed:    2.8s finished\n"
     ]
    },
    {
     "name": "stdout",
     "output_type": "stream",
     "text": [
      "100\n",
      "RMSE for Random Forest is  3.8777722919097095\n",
      "[1, 2, 3, 4, 5, 6, 10, 20, 30, 40, 50, 60, 70, 80, 90, 100]\n",
      "[5.549232683034081, 4.845694775662842, 4.566965885649315, 4.384056457769695, 4.286975915289767, 4.2127454168939025, 4.066950785738259, 3.9540803291402433, 3.936414137767052, 3.9152112126156426, 3.9021038028182886, 3.8904691463164176, 3.8848208546964047, 3.8836149989122397, 3.8804387286359194, 3.8777722919097095]\n"
     ]
    }
   ],
   "source": [
    "def pltRmse(n):\n",
    "    rf = RandomForestRegressor(n_estimators = n, random_state = 1,n_jobs=-1, verbose=2)\n",
    "    rf.fit(X_train,y_train)\n",
    "    rf_pred= rf.predict(X_test)\n",
    "    rf_rmse=np.sqrt(mean_squared_error(rf_pred, y_test))\n",
    "    print(n)\n",
    "    print(\"RMSE for Random Forest is \",rf_rmse)\n",
    "    return rf_rmse\n",
    "    #print(rf.feature_importances_)\n",
    "A = [1, 2, 3, 4, 5, 6, 10, 20, 30, 40, 50, 60, 70, 80, 90, 100]\n",
    "B = list(map(lambda x : pltRmse(x), A))\n",
    "print(A)\n",
    "print(B)"
   ]
  },
  {
   "cell_type": "code",
   "execution_count": 5,
   "metadata": {},
   "outputs": [
    {
     "data": {
      "image/png": "[encoded data removed]",
      "text/plain": [
       "<Figure size 432x288 with 1 Axes>"
      ]
     },
     "metadata": {
      "needs_background": "light"
     },
     "output_type": "display_data"
    }
   ],
   "source": [
    "A = [1, 2, 3, 4, 5, 6, 10, 20, 30, 40, 50, 60, 70, 80, 90, 100]\n",
    "B = [5.549232683034081, 4.845694775662842, 4.566965885649315, 4.384056457769695, 4.286975915289767, 4.2127454168939025, 4.066950785738259, 3.9540803291402433, 3.936414137767052, 3.9152112126156426, 3.9021038028182886, 3.8904691463164176, 3.8848208546964047, 3.8836149989122397, 3.8804387286359194, 3.8777722919097095]\n",
    "B = list(map(lambda x: x*x, B))\n",
    "plt.plot(A, B)\n",
    "plt.xlabel(\"Number of trees\")\n",
    "plt.ylabel(\"Variance\")\n",
    "fig = plt.gcf()\n",
    "fig.savefig('tree-vs-variance.png')\n",
    "plt.show()"
   ]
  },
  {
   "cell_type": "code",
   "execution_count": 58,
   "metadata": {
    "scrolled": true
   },
   "outputs": [
    {
     "data": {
      "image/png": "[encoded data removed]",
      "text/plain": [
       "<Figure size 432x288 with 1 Axes>"
      ]
     },
     "metadata": {
      "needs_background": "light"
     },
     "output_type": "display_data"
    }
   ],
   "source": [
    "#lines = [[(0, 1), (1, 1)], [(2, 3), (3, 3)], [(1, 2), (1, 3)]]\n",
    "lat1 = train['pickup_latitude'].tolist()\n",
    "lat2 = train['dropoff_latitude'].tolist()\n",
    "long1 = train['pickup_longitude'].tolist()\n",
    "long2 = train['dropoff_longitude'].tolist()\n",
    "src = list(zip(lat1, long1))\n",
    "dest = list(zip(lat2, long2))\n",
    "lines = list(map(lambda x,y:[x,y],src,dest))\n",
    "#print(lines)\n",
    "#lines = [(train['pickup_latitude'], train['pickup_longitude']), (train['dropoff_latitude'], train['dropoff_longitude'])]\n",
    "lc = mc.LineCollection(lines, linestyle='--', alpha=0.7)\n",
    "fig, ax = plt.subplots()\n",
    "ax.add_collection(lc)\n",
    "ax.autoscale()\n",
    "ax.margins(0.1)\n",
    "plt.xlabel(\"Latitude\")\n",
    "plt.ylabel(\"Longitude\")\n",
    "fig.savefig('latitude-relationship.png')\n",
    "plt.show()"
   ]
  },
  {
   "cell_type": "code",
   "execution_count": 88,
   "metadata": {},
   "outputs": [
    {
     "data": {
      "image/png": "[encoded data removed]",
      "text/plain": [
       "<Figure size 432x288 with 1 Axes>"
      ]
     },
     "metadata": {
      "needs_background": "light"
     },
     "output_type": "display_data"
    }
   ],
   "source": [
    "feat_importances = pd.Series(rf.feature_importances_, index=X_test.columns)\n",
    "feat_importances.nlargest(17).plot(kind='barh')\n",
    "fig = plt.gcf()\n",
    "fig.savefig('feature-importance.png')\n",
    "plt.show()"
   ]
  },
  {
   "cell_type": "code",
   "execution_count": null,
   "metadata": {},
   "outputs": [],
   "source": []
  }
 ],
 "metadata": {
  "kernelspec": {
   "display_name": "Python 3",
   "language": "python",
   "name": "python3"
  },
  "language_info": {
   "codemirror_mode": {
    "name": "ipython",
    "version": 3
   },
   "file_extension": ".py",
   "mimetype": "text/x-python",
   "name": "python",
   "nbconvert_exporter": "python",
   "pygments_lexer": "ipython3",
   "version": "3.6.6"
  }
 },
 "nbformat": 4,
 "nbformat_minor": 2
}
